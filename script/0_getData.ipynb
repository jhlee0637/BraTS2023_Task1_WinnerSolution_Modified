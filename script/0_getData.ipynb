{
 "cells": [
  {
   "cell_type": "markdown",
   "metadata": {},
   "source": [
    "**방법 1. BraTS 공식 페이지에서 다운받기**\n",
    "1) https://www.synapse.org/Synapse:syn51156910/wiki/621282 접속\n",
    "2) 회원가입 및 로그인\n",
    "3) https://www.synapse.org/Synapse:syn64952532 접속\n",
    "4) 파일 다운로드\n",
    "    * BraTS-GLI/ASNR-MICCAI-BraTS2023-GLI-Challenge-TrainingData.zip\n",
    "    * BraTS-GLI/ASNR-MICCAI-BraTS2023-GLI-Challenge-ValidationData.zip"
   ]
  },
  {
   "cell_type": "code",
   "execution_count": 1,
   "metadata": {},
   "outputs": [],
   "source": [
    "### Path\n",
    "project_dir = \"/Users/skku_aws26/Downloads/skku_project/BraTS2023_Task1_WinnerSolution_Modified\"\n",
    "training_data   = f'{project_dir}/data/ASNR-MICCAI-BraTS2023-GLI-Challenge-TrainingData'\n",
    "validation_data = f'{project_dir}/data/ASNR-MICCAI-BraTS2023-GLI-Challenge-ValidationData'"
   ]
  },
  {
   "cell_type": "code",
   "execution_count": 2,
   "metadata": {},
   "outputs": [],
   "source": [
    "import os"
   ]
  },
  {
   "cell_type": "code",
   "execution_count": 4,
   "metadata": {},
   "outputs": [
    {
     "name": "stdout",
     "output_type": "stream",
     "text": [
      "1251\n",
      "219\n"
     ]
    }
   ],
   "source": [
    "### File Check\n",
    "print(len(os.listdir(training_data))) # 1251\n",
    "print(len(os.listdir(validation_data))) # 219"
   ]
  }
 ],
 "metadata": {
  "kernelspec": {
   "display_name": "BraTS_solutions",
   "language": "python",
   "name": "python3"
  },
  "language_info": {
   "codemirror_mode": {
    "name": "ipython",
    "version": 3
   },
   "file_extension": ".py",
   "mimetype": "text/x-python",
   "name": "python",
   "nbconvert_exporter": "python",
   "pygments_lexer": "ipython3",
   "version": "3.11.9"
  }
 },
 "nbformat": 4,
 "nbformat_minor": 2
}
