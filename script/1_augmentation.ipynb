{
 "cells": [
  {
   "cell_type": "code",
   "execution_count": 30,
   "metadata": {},
   "outputs": [],
   "source": [
    "### Path\n",
    "project_dir = \"/Users/skku_aws26/Downloads/skku_project/BraTS2023_Task1_WinnerSolution_Modified\"\n",
    "training_data   = f'{project_dir}/data/ASNR-MICCAI-BraTS2023-GLI-Challenge-TrainingData'\n",
    "validation_data = f'{project_dir}/data/ASNR-MICCAI-BraTS2023-GLI-Challenge-ValidationData'\n",
    "gligan_path = f'{project_dir}/src/GliGAN'\n",
    "output_path = f'{project_dir}/result'"
   ]
  },
  {
   "cell_type": "code",
   "execution_count": 41,
   "metadata": {},
   "outputs": [],
   "source": [
    "import os\n",
    "import pandas as pd"
   ]
  },
  {
   "cell_type": "code",
   "execution_count": 32,
   "metadata": {},
   "outputs": [
    {
     "data": {
      "text/plain": [
       "['tumour_main_baseline.py',\n",
       " 'tumour_main_modified.py',\n",
       " 'csv_creator_modified.py',\n",
       " 'label_main.py']"
      ]
     },
     "execution_count": 32,
     "metadata": {},
     "output_type": "execute_result"
    }
   ],
   "source": [
    "### Change to GliGAN/src/train directory\n",
    "os.chdir(f'{gligan_path}/src/train')\n",
    "os.listdir('.')"
   ]
  },
  {
   "cell_type": "markdown",
   "metadata": {},
   "source": [
    "## 1. CSV file"
   ]
  },
  {
   "cell_type": "code",
   "execution_count": 37,
   "metadata": {},
   "outputs": [
    {
     "name": "stdout",
     "output_type": "stream",
     "text": [
      "Directory /Users/skku_aws26/Downloads/skku_project/BraTS2023_Task1_WinnerSolution_Modified/result/brats2023 created\n",
      "Directory /Users/skku_aws26/Downloads/skku_project/BraTS2023_Task1_WinnerSolution_Modified/result/brats2023/debug created\n",
      "CSV_PATH: /Users/skku_aws26/Downloads/skku_project/BraTS2023_Task1_WinnerSolution_Modified/result/brats2023/brats2023.csv\n",
      "Doing case ID: 00045-001\n",
      "Case id: 00045-001 was skipped (one dimention bigger than 96)\n",
      "Doing case ID: 00046-000\n",
      "Doing case ID: 00045-000\n",
      "Doing case ID: 00051-000\n",
      "Case id: 00051-000 was skipped (one dimention bigger than 96)\n",
      "Doing case ID: 00044-000\n",
      "Doing case ID: 00043-000\n",
      "Doing case ID: 00032-001\n",
      "Doing case ID: 00031-000\n",
      "Case id: 00031-000 was skipped (one dimention bigger than 96)\n",
      "Doing case ID: 00025-000\n",
      "Doing case ID: 00019-000\n",
      "Case id: 00019-000 was skipped (one dimention bigger than 96)\n",
      "Doing case ID: 00018-000\n",
      "Doing case ID: 00024-000\n",
      "Doing case ID: 00030-000\n",
      "Doing case ID: 00031-001\n",
      "Case id: 00031-001 was skipped (one dimention bigger than 96)\n",
      "Doing case ID: 00026-000\n",
      "Doing case ID: 00032-000\n",
      "Doing case ID: 00033-000\n",
      "Case id: 00033-000 was skipped (one dimention bigger than 96)\n",
      "Doing case ID: 00024-001\n",
      "Doing case ID: 00020-001\n",
      "Doing case ID: 00008-001\n",
      "Doing case ID: 00036-000\n",
      "Case id: 00036-000 was skipped (one dimention bigger than 96)\n",
      "Doing case ID: 00022-000\n",
      "Doing case ID: 00009-001\n",
      "Doing case ID: 00021-001\n",
      "Doing case ID: 00008-000\n",
      "Doing case ID: 00020-000\n",
      "Doing case ID: 00021-000\n",
      "Doing case ID: 00035-000\n",
      "Doing case ID: 00009-000\n",
      "Doing case ID: 00036-001\n",
      "Doing case ID: 00022-001\n",
      "Case id: 00022-001 was skipped (one dimention bigger than 96)\n",
      "Doing case ID: 00005-000\n",
      "Doing case ID: 00011-000\n",
      "Doing case ID: 00012-000\n",
      "Case id: 00012-000 was skipped (one dimention bigger than 96)\n",
      "Doing case ID: 00006-000\n",
      "Doing case ID: 00002-000\n",
      "Case id: 00002-000 was skipped (one dimention bigger than 96)\n",
      "Doing case ID: 00016-000\n",
      "Doing case ID: 00017-000\n",
      "Doing case ID: 00003-000\n",
      "Doing case ID: 00014-001\n",
      "Doing case ID: 00016-001\n",
      "Doing case ID: 00000-000\n",
      "Doing case ID: 00014-000\n",
      "Doing case ID: 00028-000\n",
      "Doing case ID: 00017-001\n",
      "Case id: 00017-001 was skipped (one dimention bigger than 96)\n",
      "Doing case ID: 00049-000\n",
      "Doing case ID: 00048-000\n",
      "Doing case ID: 00048-001\n",
      "Done. Saved in /Users/skku_aws26/Downloads/skku_project/BraTS2023_Task1_WinnerSolution_Modified/result/brats2023/brats2023.csv\n",
      "####################################\n",
      "Output for debug\n",
      "Number of cases in the training dict: 48\n",
      "Number of rows in the csv file: 37\n",
      "If the 48!=37, it is normal, as some cases have tumours bigger than 96.\n",
      "In case you did not see any line saying 'Case id: id was skipped (one dimention bigger than 96)' something is wrong.\n",
      "### Some rows of the csv file ###\n",
      "           id  ... z_size\n",
      "0   00046-000  ...     43\n",
      "1   00045-000  ...     47\n",
      "2   00044-000  ...     37\n",
      "3   00043-000  ...     56\n",
      "4   00032-001  ...     74\n",
      "5   00025-000  ...     61\n",
      "6   00018-000  ...     69\n",
      "7   00024-000  ...     83\n",
      "8   00030-000  ...     76\n",
      "9   00026-000  ...     57\n",
      "10  00032-000  ...     63\n",
      "11  00024-001  ...     53\n",
      "12  00020-001  ...     51\n",
      "13  00008-001  ...     38\n",
      "14  00022-000  ...     78\n",
      "15  00009-001  ...     45\n",
      "16  00021-001  ...     74\n",
      "17  00008-000  ...     39\n",
      "18  00020-000  ...     48\n",
      "19  00021-000  ...     63\n",
      "20  00035-000  ...     48\n",
      "21  00009-000  ...     60\n",
      "22  00036-001  ...     77\n",
      "23  00005-000  ...     64\n",
      "24  00011-000  ...     60\n",
      "25  00006-000  ...     67\n",
      "26  00016-000  ...     60\n",
      "27  00017-000  ...     71\n",
      "28  00003-000  ...     59\n",
      "29  00014-001  ...     39\n",
      "30  00016-001  ...     67\n",
      "31  00000-000  ...     46\n",
      "32  00014-000  ...     50\n",
      "33  00028-000  ...     52\n",
      "34  00049-000  ...     64\n",
      "35  00048-000  ...     66\n",
      "36  00048-001  ...     36\n",
      "\n",
      "[37 rows x 18 columns]\n",
      "Path to the t1ce file: /Users/skku_aws26/Downloads/skku_project/BraTS2023_Task1_WinnerSolution_Modified/data/ASNR-MICCAI-BraTS2023-GLI-Challenge-TrainingData/BraTS-GLI-00046-000/BraTS-GLI-00046-000-t1ce.nii.gz\n",
      "Path to the t2 file: /Users/skku_aws26/Downloads/skku_project/BraTS2023_Task1_WinnerSolution_Modified/data/ASNR-MICCAI-BraTS2023-GLI-Challenge-TrainingData/BraTS-GLI-00046-000/BraTS-GLI-00046-000-t2w.nii.gz\n",
      "Path to the falir file: /Users/skku_aws26/Downloads/skku_project/BraTS2023_Task1_WinnerSolution_Modified/data/ASNR-MICCAI-BraTS2023-GLI-Challenge-TrainingData/BraTS-GLI-00046-000/BraTS-GLI-00046-000-t2f.nii.gz\n",
      "Path to the t1 file: /Users/skku_aws26/Downloads/skku_project/BraTS2023_Task1_WinnerSolution_Modified/data/ASNR-MICCAI-BraTS2023-GLI-Challenge-TrainingData/BraTS-GLI-00046-000/BraTS-GLI-00046-000-t1n.nii.gz\n",
      "Path to the label file: /Users/skku_aws26/Downloads/skku_project/BraTS2023_Task1_WinnerSolution_Modified/data/ASNR-MICCAI-BraTS2023-GLI-Challenge-TrainingData/BraTS-GLI-00046-000/BraTS-GLI-00046-000-seg.nii.gz\n",
      "Center of mass -> x: 92, y: 147, z: 93\n",
      "Creating an image with a sample (several slices)\n",
      "Finished!\n"
     ]
    }
   ],
   "source": [
    "### Create the csv file\n",
    "###     1) directory 'Checkpoint' will be forced to be created at ../../Checkpoint\n",
    "!python csv_creator_modified.py \\\n",
    "    --logdir brats2023 \\\n",
    "    --dataset Brats2023 \\\n",
    "    --datadir {training_data} \\\n",
    "    --outputdir {output_path} \\\n",
    "    --t1c_ending 't1ce.nii.gz' \\\n",
    "    --debug True\n"
   ]
  },
  {
   "cell_type": "code",
   "execution_count": 38,
   "metadata": {},
   "outputs": [
    {
     "data": {
      "text/plain": [
       "True"
      ]
     },
     "execution_count": 38,
     "metadata": {},
     "output_type": "execute_result"
    }
   ],
   "source": [
    "### Check CSV file\n",
    "csv_file = f'{output_path}/brats2023/brats2023.csv'\n",
    "os.path.exists(csv_file)"
   ]
  },
  {
   "cell_type": "code",
   "execution_count": 63,
   "metadata": {},
   "outputs": [
    {
     "data": {
      "text/plain": [
       "37"
      ]
     },
     "execution_count": 63,
     "metadata": {},
     "output_type": "execute_result"
    }
   ],
   "source": [
    "### Explore the csv file\n",
    "df = pd.read_csv(csv_file)\n",
    "data_size = len(df[:])\n",
    "data_size"
   ]
  },
  {
   "cell_type": "markdown",
   "metadata": {},
   "source": [
    "## GliGAN Training\n",
    "* Since the training will be iterated for 8 times, define the function"
   ]
  },
  {
   "cell_type": "code",
   "execution_count": 75,
   "metadata": {},
   "outputs": [],
   "source": [
    "def get_training_cmd(config, training_file, modality):\n",
    "    cmd = [\"python\", training_file]\n",
    "    for parameter, value in config.items():\n",
    "        cmd.append(f\"--{parameter}\")\n",
    "        cmd.append(str(value))\n",
    "    cmd.append(f\"--modality {modality}\") #t1, t1ce, t2, flair\n",
    "    return cmd"
   ]
  },
  {
   "cell_type": "markdown",
   "metadata": {},
   "source": [
    "### Before Start Your Training,Set the Parameters"
   ]
  },
  {
   "cell_type": "code",
   "execution_count": 87,
   "metadata": {},
   "outputs": [
    {
     "name": "stdout",
     "output_type": "stream",
     "text": [
      "first training epoch: 0.5405405405405406\n",
      "second training epoch: 5.405405405405405\n"
     ]
    }
   ],
   "source": [
    "batch_size = 2 # number of batches. # default 4\n",
    "first_num_steps = 10   # final step of the first training.  default=200000\n",
    "second_num_steps = 100 # final step of the second training. default=2000000\n",
    "\n",
    "### 'batch_size', 'num_steps', and the size of data in your csv file decide the size of epoch.\n",
    "ep = first_num_steps/(data_size/batch_size)\n",
    "print(f'first training epoch: {ep}')\n",
    "ep = second_num_steps/(data_size/batch_size)\n",
    "print(f'second training epoch: {ep}')"
   ]
  },
  {
   "cell_type": "code",
   "execution_count": 88,
   "metadata": {},
   "outputs": [],
   "source": [
    "epoch_saving = 100 # weights will be saved every epoch under this value, or at the end of the training"
   ]
  },
  {
   "cell_type": "code",
   "execution_count": 89,
   "metadata": {},
   "outputs": [],
   "source": [
    "second_resume = first_num_steps  \n",
    "### second trainig starts by loading the weights of the first training\n",
    "### so it needs to 'resume' from the end of the first training step\n",
    "### of course if the second training was terminated, fix this value and 'resume' it"
   ]
  },
  {
   "cell_type": "code",
   "execution_count": 90,
   "metadata": {},
   "outputs": [],
   "source": [
    "first_training_configs = {\n",
    "    'outputdir': output_path,\n",
    "    'batch_size': batch_size,\n",
    "    #'resume_iter': 1, # resume step\n",
    "                       # if your first training progress was terminated in the middle of the process, you can load the weights from the 'step' of this value\n",
    "                       # so, set this value only when it is necessary\n",
    "    'num_steps': first_num_steps, # final step\n",
    "    'epoch_saving': epoch_saving, # save every this epoch\n",
    "    'num_workers': 2, # number of cores. default=2\n",
    "    'logdir': 'brats2023',\n",
    "    'in_channels': 4,\n",
    "    'out_channels': 1,\n",
    "    'optim_lr': 0.0001,\n",
    "    'reg_weight': 0,\n",
    "    'noise_type': 'gaussian_extended',\n",
    "    'not_abs_value_loss': True,\n",
    "    'use_sigmoid': True,\n",
    "    'G_n_update': 2,\n",
    "    'D_n_update': 1,\n",
    "    'w_loss_recons': 5,\n",
    "    'dataset': 'Brats_2023',\n",
    "}"
   ]
  },
  {
   "cell_type": "code",
   "execution_count": 91,
   "metadata": {},
   "outputs": [],
   "source": [
    "second_training_configs = {\n",
    "    'outputdir': output_path,\n",
    "    'batch_size': batch_size,\n",
    "    'resume_iter': second_resume, # start step\n",
    "    'num_steps': second_num_steps, # final step\n",
    "    'epoch_saving': epoch_saving, # save every this epoch\n",
    "    'num_workers': 2,\n",
    "    'logdir': 'brats2023',\n",
    "    'in_channels': 4,\n",
    "    'out_channels': 1,\n",
    "    'optim_lr': 0.0001,\n",
    "    'reg_weight': 0,\n",
    "    'noise_type': 'gaussian_extended',\n",
    "    'not_abs_value_loss': True,\n",
    "    'use_sigmoid': True,\n",
    "    'G_n_update': 2,\n",
    "    'D_n_update': 1,\n",
    "    'w_loss_recons': 100, # updated\n",
    "    'dataset': 'Brats_2023',\n",
    "}"
   ]
  },
  {
   "cell_type": "markdown",
   "metadata": {},
   "source": [
    "### What's different between first and second training?\n",
    "* Second training starts from the final step of the first training\n",
    "    * `--resume_iter` = step of the final weight of the first training\n",
    "* `--w_loss_recons`(Reconstruction Loss Component Weight): 5 -> 100\n",
    "\n",
    "We just finished the two step gliGAN training of the t1.    \n",
    "Keep going for t2, t1ce, and flair."
   ]
  },
  {
   "cell_type": "markdown",
   "metadata": {},
   "source": [
    "### t1 training"
   ]
  },
  {
   "cell_type": "code",
   "execution_count": 96,
   "metadata": {},
   "outputs": [],
   "source": [
    "### t1 First Training\n",
    "cmd = get_training_cmd(first_training_configs, 'tumour_main_modified.py', 't1')\n",
    "cmd_str = ' '.join(cmd)\n",
    "#os.system(cmd_str) # run"
   ]
  },
  {
   "cell_type": "code",
   "execution_count": 95,
   "metadata": {},
   "outputs": [],
   "source": [
    "### t1 Second Training\n",
    "cmd = get_training_cmd(second_training_configs, 'tumour_main_modified.py', 't1')\n",
    "cmd_str = ' '.join(cmd)\n",
    "#os.system(cmd_str) # run"
   ]
  },
  {
   "cell_type": "markdown",
   "metadata": {},
   "source": [
    "### t1ce training"
   ]
  },
  {
   "cell_type": "code",
   "execution_count": 97,
   "metadata": {},
   "outputs": [
    {
     "name": "stdout",
     "output_type": "stream",
     "text": [
      "python tumour_main_modified.py --outputdir /Users/skku_aws26/Downloads/skku_project/BraTS2023_Task1_WinnerSolution_Modified/result --batch_size 2 --num_steps 10 --epoch_saving 100 --num_workers 2 --logdir brats2023 --in_channels 4 --out_channels 1 --optim_lr 0.0001 --reg_weight 0 --noise_type gaussian_extended --not_abs_value_loss True --use_sigmoid True --G_n_update 2 --D_n_update 1 --w_loss_recons 5 --dataset Brats_2023 --modality t1ce\n"
     ]
    }
   ],
   "source": [
    "### t1ce First Training\n",
    "cmd = get_training_cmd(first_training_configs, 'tumour_main_modified.py', 't1ce')\n",
    "cmd_str = ' '.join(cmd)\n",
    "print(cmd_str)\n",
    "#os.system(cmd_str) # run"
   ]
  },
  {
   "cell_type": "code",
   "execution_count": null,
   "metadata": {},
   "outputs": [],
   "source": [
    "### t1ce Second Training\n",
    "cmd = get_training_cmd(second_training_configs, 'tumour_main_modified.py', 't1ce')\n",
    "cmd_str = ' '.join(cmd)\n",
    "print(cmd_str)\n",
    "#os.system(cmd_str) # run"
   ]
  },
  {
   "cell_type": "markdown",
   "metadata": {},
   "source": [
    "### t2 training"
   ]
  },
  {
   "cell_type": "code",
   "execution_count": null,
   "metadata": {},
   "outputs": [],
   "source": [
    "### t2 First Training\n",
    "cmd = get_training_cmd(first_training_configs, 'tumour_main_modified.py', 't2')\n",
    "cmd_str = ' '.join(cmd)\n",
    "print(cmd_str)\n",
    "#os.system(cmd_str) # run"
   ]
  },
  {
   "cell_type": "code",
   "execution_count": null,
   "metadata": {},
   "outputs": [],
   "source": [
    "### t2 Second Training\n",
    "cmd = get_training_cmd(second_training_configs, 'tumour_main_modified.py', 't2')\n",
    "cmd_str = ' '.join(cmd)\n",
    "print(cmd_str)\n",
    "#os.system(cmd_str) # run"
   ]
  },
  {
   "cell_type": "markdown",
   "metadata": {},
   "source": [
    "### flair training"
   ]
  },
  {
   "cell_type": "code",
   "execution_count": null,
   "metadata": {},
   "outputs": [],
   "source": [
    "### flair First Training\n",
    "cmd = get_training_cmd(first_training_configs, 'tumour_main_modified.py', 'flair')\n",
    "cmd_str = ' '.join(cmd)\n",
    "print(cmd_str)\n",
    "#os.system(cmd_str) # run"
   ]
  },
  {
   "cell_type": "code",
   "execution_count": null,
   "metadata": {},
   "outputs": [],
   "source": [
    "### flair Second Training\n",
    "cmd = get_training_cmd(second_training_configs, 'tumour_main_modified.py', 'flair')\n",
    "cmd_str = ' '.join(cmd)\n",
    "print(cmd_str)\n",
    "#os.system(cmd_str) # run"
   ]
  },
  {
   "cell_type": "markdown",
   "metadata": {},
   "source": [
    "## Label generator"
   ]
  },
  {
   "cell_type": "code",
   "execution_count": null,
   "metadata": {},
   "outputs": [],
   "source": [
    "!python label_main_modified.py \\\n",
    "    --logdir brats2023 \\\n",
    "    --batch_size 4 \\\n",
    "    --num_worker {num_workers} \\\n",
    "    --in_channels 3 \\\n",
    "    --out_channels 1 \\\n",
    "    --total_iter {first_num_steps} \\\n",
    "    --datadir {training_data} \\\n",
    "    --outputdir {output_path} \\\n",
    "\n"
   ]
  },
  {
   "cell_type": "markdown",
   "metadata": {},
   "source": [
    "The reason why the iteration following the first training steps is cause the authur set it like that."
   ]
  }
 ],
 "metadata": {
  "kernelspec": {
   "display_name": "BraTS_solutions",
   "language": "python",
   "name": "python3"
  },
  "language_info": {
   "codemirror_mode": {
    "name": "ipython",
    "version": 3
   },
   "file_extension": ".py",
   "mimetype": "text/x-python",
   "name": "python",
   "nbconvert_exporter": "python",
   "pygments_lexer": "ipython3",
   "version": "3.11.9"
  }
 },
 "nbformat": 4,
 "nbformat_minor": 2
}
