{
 "cells": [
  {
   "cell_type": "code",
   "execution_count": null,
   "metadata": {},
   "outputs": [],
   "source": [
    "### Path\n",
    "project_dir = \"/Users/skku_aws26/Downloads/skku_project/BraTS2023_Task1_WinnerSolution_Modified\"\n",
    "gligan_path = f'{project_dir}/src/GliGAN'\n"
   ]
  }
 ],
 "metadata": {
  "language_info": {
   "name": "python"
  }
 },
 "nbformat": 4,
 "nbformat_minor": 2
}
