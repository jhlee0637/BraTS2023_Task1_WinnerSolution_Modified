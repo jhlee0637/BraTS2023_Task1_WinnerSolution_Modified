{
 "cells": [
  {
   "cell_type": "markdown",
   "id": "16307b66",
   "metadata": {},
   "source": [
    "## 1. Segmentation Pre-processing"
   ]
  },
  {
   "cell_type": "markdown",
   "id": "4a029ead",
   "metadata": {},
   "source": [
    "## 1.1 Dataset Conversion to fit the nnUNet\n",
    "* original notebook: `BraTS_2023_2024_solutions/Segmentation_Tasks/nnUNet/Dataset_conversion.ipynb`"
   ]
  },
  {
   "cell_type": "markdown",
   "id": "f0461618",
   "metadata": {},
   "source": [
    "### Preparing"
   ]
  },
  {
   "cell_type": "code",
   "execution_count": 1,
   "id": "90ee53b9",
   "metadata": {},
   "outputs": [],
   "source": [
    "import json\n",
    "import shutil\n",
    "import os \n",
    "import SimpleITK as sitk\n",
    "import numpy as np"
   ]
  },
  {
   "cell_type": "code",
   "execution_count": 4,
   "id": "f957c3c6",
   "metadata": {},
   "outputs": [
    {
     "name": "stdout",
     "output_type": "stream",
     "text": [
      "False\n",
      "False\n",
      "False\n"
     ]
    }
   ],
   "source": [
    "### 위치 정의\n",
    "prefix_dir=\"..\"\n",
    "source_brats = f'{prefix_dir}/BraTS_2023_2024_solutions/GliGAN/DataSet/ASNR-MICCAI-BraTS2023-GLI-Challenge-TrainingData' # BraTS2023 데이터  \n",
    "source_gligan = f'{prefix_dir}/BraTS_2023_2024_solutions/GliGAN/Checkpoint/brats2023/Synthetic_dataset_random_labels' # GliGan으로 증강한 데이터\n",
    "destination_folder = f'{prefix_dir}/BraTS_2023_2024_solutions/nnUNet_raw/Dataset232_BraTS_2023_rGANs' # Segmentation 데이터셋과 관련 데이터를 저장할 위치\n",
    "print(os.path.exists(source_brats))\n",
    "print(os.path.exists(source_gligan))\n",
    "print(os.path.exists(destination_folder))"
   ]
  },
  {
   "cell_type": "code",
   "execution_count": null,
   "id": "79d19395",
   "metadata": {},
   "outputs": [],
   "source": [
    "### 환경변수 설정\n",
    "os.environ['nnUNet_preprocessed'] = f\"{prefix_dir}/BraTS_2023_2024_solutions/Segmentation_Tasks/nnUNet/nnUNet_preprocessed\"\n",
    "os.environ['nnUNet_results'] = f\"{prefix_dir}/BraTS_2023_2024_solutions/Segmentation_Tasks/nnUNet/nnUNet_results\"\n",
    "os.environ['nnUNet_raw'] = f\"{prefix_dir}/BraTS_2023_2024_solutions/Segmentation_Tasks/nnUNet/nnUNet_raw\""
   ]
  },
  {
   "cell_type": "code",
   "execution_count": null,
   "id": "5306d291",
   "metadata": {},
   "outputs": [],
   "source": [
    "### 환경변수 설정 확인\n",
    "print(f\"nnUNet_preprocessed: {os.environ['nnUNet_preprocessed']}\")\n",
    "print(f\"nnUNet_results: {os.environ['nnUNet_results']}\")\n",
    "print(f\"nnUNet_raw: {os.environ['nnUNet_raw']}\")"
   ]
  },
  {
   "cell_type": "code",
   "execution_count": null,
   "id": "9619814e",
   "metadata": {},
   "outputs": [],
   "source": [
    "### BraTS 데이터의 label을 nnUNet에서 사용할 수 있게 변경하여 저장하는 함수\n",
    "def copy_BraTS_segmentation_and_convert_lables_to_nnUNet_2023(infile: str, out_file: str) -> None:\n",
    "   img = sitk.ReadImage(in_file) # 이미지를 sitk 이미지로 변환\n",
    "   img_npy = sitk.GetArrayFromImage(img) # sitk 이미지에서 numpy 정보 추출\n",
    "   uniques = np.unique(img_npy) # 이미지를 구성하는 labels 확인 -> 0, 1, 2, 3 이어야함\n",
    "   seg_new = np.zeros_like(img_npy) # img_npy와 동일한 크기의 0으로 채워진numpy를 만듦\n",
    "   seg_new[img_npy == 3] = 3 \n",
    "   seg_new[img_npy == 2] = 2\n",
    "   seg_new[img_npy == 1] = 1\n",
    "   seg_new[img_npy < 0] = 0\n",
    "   seg_new[img_npy > 4] = 0\n",
    "   img_corr = sitk.GetImageFromArray(seg_new)\n",
    "   img_corr.CopyInformation(img)\n",
    "   sitk.WriteImage(img_corr, out_file)"
   ]
  },
  {
   "cell_type": "code",
   "execution_count": null,
   "id": "82cdec01",
   "metadata": {},
   "outputs": [],
   "source": [
    "### BraTS2023 데이터를 nnUNet에서 사용할 수 있게 변경하는 함수\n",
    "def convert_to_nnUnet_2023_real(source_file, destination_folder):\n",
    "    os.makedirs(os.path.join(destination_folder, \"imagesTr\"), exist_ok=True) # 'imagesTr' 폴더 작성하기\n",
    "    os.makedirs(os.path.join(destination_folder, \"labelsTr\"), exist_ok=True) # 'labelsTr' 폴더 작성하기\n",
    "    for folder in os.listdir(source_file):\n",
    "        ### t1c 파일 복사히기\n",
    "        t1c_name = f\"{folder}-t1c.nii.gz\" # 파일확인\n",
    "        t1c_path = os.path.join(source_file, folder, t1c_name) # 저장할 경로 확인\n",
    "        new_t1c_name = f\"{folder}_0000.nii.gz\" # 새 파일 이름은 뒤에 class를 적음. 0000은 0번 class.\n",
    "        destination_t1c = os.path.join(destination_folder, \"imagesTr\", new_t1c_name) # 새 파일 경로 확인\n",
    "        shutil.copy(t1c_path, destination_t1c) # 파일 복사하기\n",
    "\n",
    "        ### t1n 파일 복사하기\n",
    "        t1n_name = f\"{folder}-t1n.nii.gz\"\n",
    "        t1n_path = os.path.join(source_file, folder, t1n_name)\n",
    "        new_t1n_name = f\"{folder}_0001.nii.gz\"\n",
    "        destination_t1n = os.path.join(destination_folder, \"imagesTr\", new_t1n_name)\n",
    "        shutil.copy(t1n_path, destination_t1n)\n",
    "\n",
    "        ### t2f 파일 복사하기        \n",
    "        t2f_name = f\"{folder}-t2f.nii.gz\"\n",
    "        t2f_path = os.path.join(source_file, folder, t2f_name)\n",
    "        new_t2f_name = f\"{folder}_0002.nii.gz\"\n",
    "        destination_t2f = os.path.join(destination_folder, \"imagesTr\", new_t2f_name)\n",
    "        shutil.copy(t2f_path, destination_t2f)\n",
    "\n",
    "        ### t2w 파일 복사하기        \n",
    "        t2w_name = f\"{folder}-t2w.nii.gz\"\n",
    "        t2w_path = os.path.join(source_file, folder, t2w_name)\n",
    "        new_t2w_name = f\"{folder}_0003.nii.gz\"\n",
    "        destination_t2w = os.path.join(destination_folder, \"imagesTr\", new_t2w_name)\n",
    "        shutil.copy(t2w_path, destination_t2w)\n",
    "        \n",
    "        ### seg 파일 복사하기\n",
    "        seg_name = f\"{folder}-seg.nii.gz\"\n",
    "        seg_path = os.path.join(source_file, folder, seg_name)\n",
    "        new_seg_name = f\"{folder}.nii.gz\"\n",
    "        destination_seg = os.path.join(destination_folder, \"labelTr\", new_seg_name)\n",
    "        \n",
    "        ### BraTS 데이터의 label을 nnUNet에서 사용할 수 있게 변경하여 저장\n",
    "        copy_BraTS_segmentation_and_convert_labels_to_nnUNet_2023(in_file=seg_path, out_file=destination_seg) "
   ]
  },
  {
   "cell_type": "code",
   "execution_count": null,
   "id": "f3567be3",
   "metadata": {},
   "outputs": [],
   "source": [
    "### 증강하여 만든 가상의 데이터를 nnUNet에서 사용할 수 있게 변경하는 함수\n",
    "def convert_to_nnUNet_2023_fake(source_file, destination_folder):\n",
    "    os.makedirs(os.path.join(destination_folder, \"imagesTr\"), exist_ok=True)\n",
    "    os.makedirs(os.path.join(destination_folder, \"labelsTr\"), exist_ok=True)\n",
    "    for folder in os.listdir(source_file):\n",
    "        ### t1ce 파일 복사히기\n",
    "        t1c_name = f\"{folder}-scan_t1ce.nii.gz\"\n",
    "        t1c_path = os.path.join(source_file, folder, t1c_name)\n",
    "        new_t1c_name = f\"{folder}_0000.nii.gz\"\n",
    "        destination_t1c = os.path.join(destination_folder, \"imagesTr\", new_t1c_name)\n",
    "        shutil.copy(t1c_path, destination_t1c)\n",
    "        \n",
    "        ### t1n 파일 복사히기\n",
    "        t1n_name = f\"{folder}-scan_t1.nii.gz\"\n",
    "        t1n_path = os.path.join(source_file, folder, t1n_name)\n",
    "        new_t1n_name = f\"{folder}_0001.nii.gz\"\n",
    "        destination_t1n = os.path.join(destination_folder, \"imagesTr\", new_t1n_name)\n",
    "        shutil.copy(t1n_path, destination_t1n)\n",
    "        \n",
    "        ### flair 파일 복사히기\n",
    "        t2f_name = f\"{folder}-scan_flair.nii.gz\"\n",
    "        t2f_path = os.path.join(source_file, folder, t2f_name)\n",
    "        new_t2f_name = f\"{folder}_0002.nii.gz\"\n",
    "        destination_t2f = os.path.join(destination_folder, \"imagesTr\", new_t2f_name)\n",
    "        shutil.copy(t2f_path, destination_t2f)\n",
    "        \n",
    "        ### t2 파일 복사히기\n",
    "        t2w_name = f\"{folder}-scan_t2.nii.gz\"\n",
    "        t2w_path = os.path.join(source_file, folder, t2w_name)\n",
    "        new_t2w_name = f\"{folder}_0003.nii.gz\"\n",
    "        destination_t2w = os.path.join(destination_folder, \"imagesTr\", new_t2w_name)\n",
    "        shutil.copy(t2w_path, destination_t2w)\n",
    "        \n",
    "        ### seg 파일 복사히기\n",
    "        seg_name = f\"{folder}-seg.nii.gz\"\n",
    "        seg_path = os.path.join(source_file, folder, seg_name)\n",
    "        new_seg_name = f\"{folder}.nii.gz\"\n",
    "        destination_seg = os.path.join(destination_folder, \"labelsTr\", new_seg_name)\n",
    "\n",
    "        ### BraTS 데이터의 label을 nnUNet에서 사용할 수 있게 변경하여 저장\n",
    "        copy_BraTS_segmentation_and_convert_labels_to_nnUNet_2023(in_file=seg_path, out_file=destination_seg)\n"
   ]
  },
  {
   "cell_type": "markdown",
   "id": "feb6b4c7",
   "metadata": {},
   "source": [
    "### Executing"
   ]
  },
  {
   "cell_type": "code",
   "execution_count": null,
   "id": "31f39ad8",
   "metadata": {},
   "outputs": [],
   "source": [
    "### BraTS2023 데이터 변환하기\n",
    "convert_to_nnUnet_2023_real(source_brats, destination_folder) # BraTS2023 데이터를 nnUNet에서 사용할 수 있게 변경"
   ]
  },
  {
   "cell_type": "code",
   "execution_count": null,
   "id": "928cd178",
   "metadata": {},
   "outputs": [],
   "source": [
    "### 증강하여 만든 가상의 데이터를 변환하기\n",
    "convert_to_nnUnet_2023_real(source_gligan, destination_folder) # BraTS2023 데이터를 nnUNet에서 사용할 수 있게 변경"
   ]
  },
  {
   "cell_type": "markdown",
   "id": "2c23fa44",
   "metadata": {},
   "source": [
    "## 1.2 dataset.json for nnUNet"
   ]
  },
  {
   "cell_type": "code",
   "execution_count": null,
   "id": "207dc6e1",
   "metadata": {},
   "outputs": [],
   "source": [
    "### nnUNet에 필요한 json 파일 정보 \n",
    "json_content = {\n",
    "    \"channel_names\": {\n",
    "        \"0\": \"t1c\",\n",
    "        \"1\": \"t1\",\n",
    "        \"2\": \"t2f\",\n",
    "        \"3\": \"t2\"\n",
    "    },\n",
    "    \"labels\": {\n",
    "        \"background\": 0,\n",
    "        \"whole tumor\": [\n",
    "            1,\n",
    "            2,\n",
    "            3\n",
    "        ],\n",
    "        \"tumor core\": [\n",
    "            2,\n",
    "            3\n",
    "        ],\n",
    "        \"enhancing tumor\": 3,\n",
    "    },\n",
    "    \"numTraining\": len(os.listdir(os.path.join(destination_folder, \"labelsTr\"))),\n",
    "    \"file_ending\": \".nii.gz\",\n",
    "    \"regions_class_order\": [\n",
    "        1,\n",
    "        2,\n",
    "        3\n",
    "    ]\n",
    "}"
   ]
  },
  {
   "cell_type": "code",
   "execution_count": null,
   "id": "bd52d36c",
   "metadata": {},
   "outputs": [],
   "source": [
    "### JSON 파일 저장\n",
    "with open(f'{destination_folder}/dataset.json', 'w') as json_file:\n",
    "    json.dump(json_content, json_file, indent=4)"
   ]
  },
  {
   "cell_type": "markdown",
   "id": "edb05eb7",
   "metadata": {},
   "source": [
    "## 1.3 nnUNetv2 Segmentation"
   ]
  },
  {
   "cell_type": "code",
   "execution_count": null,
   "id": "6286ab66",
   "metadata": {},
   "outputs": [],
   "source": [
    "# Pre-processing command 만들기\n",
    "### 파이썬 파일 위치 확인\n",
    "nnUNetv2_plan_and_preprocess = f\"{prefix_dir}/BraTS_2023_2024_solutions/Segmentation_Tasks/nnUNet_install/nnunetv2/experiment_planning/plan_and_preprocess_entrypoints.py\"\n",
    "\n",
    "### 파라미터 확인\n",
    "segmentation_parameters = {\n",
    "    \"-d\": [232], # 데이터셋 ID 리스트  \n",
    "    \"-fpe\": \"DatasetFingerprintExtractor\", # 사용할 데이터셋 Fingerprint Extractor 클래스 이름\n",
    "    \"--verify_dataset_integrity\": True, # 데이터셋 무결성 확인 여부\n",
    "    \"-np\": 8, # Fingerprint 추출에 사용할 프로세스 수.\n",
    "    \"--clean\": False, # 기존 Fingerprint를 덮어쓸지 여부\n",
    "    \"--verbose\": False # 상세 로그 출력 여부\n",
    "}\n",
    "\n",
    "### command 생성\n",
    "cmd = f'python {nnUNetv2_plan_and_preprocess}'\n",
    "for key, value in segmentation_parameters.items():\n",
    "        cmd += f\" {key} {value}\""
   ]
  },
  {
   "cell_type": "code",
   "execution_count": null,
   "id": "3794034d",
   "metadata": {},
   "outputs": [],
   "source": [
    "### Pre-processing command 확인\n",
    "cmd"
   ]
  },
  {
   "cell_type": "code",
   "execution_count": null,
   "id": "d009b648",
   "metadata": {},
   "outputs": [],
   "source": [
    "### Pre-processing command 실행\n",
    "os.system(cmd)"
   ]
  },
  {
   "cell_type": "code",
   "execution_count": null,
   "id": "297a9f7d",
   "metadata": {},
   "outputs": [],
   "source": [
    "### dataset.json 파일 확인"
   ]
  },
  {
   "cell_type": "code",
   "execution_count": null,
   "id": "ae651bba",
   "metadata": {},
   "outputs": [],
   "source": [
    "### Copy the nnUNetPlans_2023_glioma.json to the postprocessing folder\n",
    "jsonfile = f\"{prefix_dir}/BraTS_2023_2024_solutions/Segmentation_Tasks/example/nnUNetPlans_2023_glioma.json\""
   ]
  },
  {
   "cell_type": "markdown",
   "id": "885f9898",
   "metadata": {},
   "source": [
    "# 2. Segmentation Training"
   ]
  },
  {
   "cell_type": "code",
   "execution_count": null,
   "id": "bd281de6",
   "metadata": {},
   "outputs": [],
   "source": [
    "### 파이썬 위치 확인\n",
    "nnUNetv2_train = f\"{prefix_dir}/BraTS_2023_2024_solutions/Segmentation_Tasks/nnUNet_install/nnunetv2/run/run_training.py\""
   ]
  }
 ],
 "metadata": {
  "kernelspec": {
   "display_name": "BraTS_solutions",
   "language": "python",
   "name": "python3"
  },
  "language_info": {
   "codemirror_mode": {
    "name": "ipython",
    "version": 3
   },
   "file_extension": ".py",
   "mimetype": "text/x-python",
   "name": "python",
   "nbconvert_exporter": "python",
   "pygments_lexer": "ipython3",
   "version": "3.11.9"
  }
 },
 "nbformat": 4,
 "nbformat_minor": 5
}
